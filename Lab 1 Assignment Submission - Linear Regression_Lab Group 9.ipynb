{
 "cells": [
  {
   "cell_type": "code",
   "execution_count": 1,
   "id": "c44bf2ad",
   "metadata": {},
   "outputs": [],
   "source": [
    "import pandas as pd\n",
    "import numpy as np\n",
    "from sklearn.model_selection import train_test_split\n",
    "from tqdm import tqdm\n",
    "import matplotlib.pyplot as plt\n",
    "import pdb"
   ]
  },
  {
   "cell_type": "markdown",
   "id": "fd5736c2",
   "metadata": {},
   "source": [
    "## Housing Dataset"
   ]
  },
  {
   "cell_type": "code",
   "execution_count": 2,
   "id": "e8dd3041",
   "metadata": {},
   "outputs": [],
   "source": [
    "df=pd.read_csv(r\"C:\\Users\\rutuj\\OneDrive\\Documents\\Northeastern University MS in Data Analytics Engineering\\4. Machine Learning\\Python Class Lab Sessions\\Lab 1 Linear Regression\\housing.csv\")"
   ]
  },
  {
   "cell_type": "code",
   "execution_count": 3,
   "id": "fc7e4f33",
   "metadata": {},
   "outputs": [
    {
     "data": {
      "text/plain": [
       "(505, 14)"
      ]
     },
     "execution_count": 3,
     "metadata": {},
     "output_type": "execute_result"
    }
   ],
   "source": [
    "df.describe()\n",
    "df.shape"
   ]
  },
  {
   "cell_type": "code",
   "execution_count": 38,
   "id": "86e85754",
   "metadata": {},
   "outputs": [],
   "source": [
    "class LinearRegression:\n",
    "    def __init__(self, X,y,learningRate,tolerance,maxIteration,lamda=0.05,batch_size=1,gd=False,reg=False,sgd=False)->None:\n",
    "        self.X=X\n",
    "        self.y=y\n",
    "        self.tolerance=tolerance\n",
    "        self.learningRate=learningRate\n",
    "        self.maxIteration=maxIteration\n",
    "        self.gd=gd\n",
    "        self.lamda=lamda\n",
    "        self.reg=reg\n",
    "        self.sgd=sgd\n",
    "        self.batch_size=batch_size\n",
    "    def trainTestSplit(self):\n",
    "        X_train,X_test,y_train,y_test=train_test_split(self.X,self.y,test_size=0.3,random_state=0)\n",
    "        return X_train, X_test,y_train,y_test\n",
    "    \n",
    "    #Add column of 1 to matrix X (for theta0 )\n",
    "    def add_X0(self,X):\n",
    "        return np.column_stack([np.ones([X.shape[0],1]),X]) #1=will add one column\n",
    "   \n",
    "\n",
    "    def normalize(self,X):\n",
    "        mean=np.mean(X,0)\n",
    "        sd=np.std(X,0)\n",
    "        X_norm=(X-mean)/sd\n",
    "        \n",
    "        X_norm=self.add_X0(X_norm)\n",
    "        \n",
    "        return X_norm, mean, sd\n",
    "    \n",
    "    def normalizeTestData(self, X, trainMean,trainSd):\n",
    "        X_norm=(X-trainMean)/trainSd\n",
    "        X_norm=self.add_X0(X_norm)\n",
    "        return X_norm\n",
    "    \n",
    "    \n",
    "    def rank(self,X,eps=1e-12):\n",
    "        u,s,vh=np.linalg.svd(X)\n",
    "        #u, sigma, v transpose\n",
    "        return len([x for x in s if abs(x)>eps]) #Number of non zero eigen values\n",
    "    \n",
    "    #2 To Solve by closed form , check rank of matrix\n",
    "    def checkMatrix(self,X):\n",
    "        X_rank=np.linalg.matrix_rank(X)\n",
    "        \n",
    "        if X_rank==min(X.shape[0],X.shape[1]):\n",
    "            self.fullRank=True\n",
    "            print(\"Data is Full Rank\")\n",
    "        else:\n",
    "            self.fullRank=False\n",
    "            print(\"Data is not Full Rank\")\n",
    "            \n",
    "   #To check number of dimension greater than or less than rows \n",
    "    def checkInvertibility(self,X):\n",
    "        if X.shape[0]<X.shape[1]:\n",
    "            self.lowRank=True\n",
    "            print(\"Data is low Rank\")\n",
    "        else:\n",
    "            self.lowRank=False\n",
    "            print(\"Data is not low Rank\")\n",
    "    \n",
    "    def closedFormSolution(self,X,y,reg):\n",
    "        if reg==False:\n",
    "            w=np.linalg.inv(X.T.dot(X)).dot(X.T).dot(y)   \n",
    "        else:\n",
    "            #self.lamda=0.0001\n",
    "            w=np.linalg.inv(X.T.dot(X)+ self.lamda*(np.identity(X.shape[1]))).dot(X.T).dot(y)\n",
    "        return w    \n",
    "    \n",
    "    def gradientDescent(self,X,y,reg):\n",
    "        errorSequences=[]\n",
    "        last=float('inf')                           # set initial error: infinite\n",
    "        for t in tqdm(range(self.maxIteration)):             #tqdm tracks a progress bar\n",
    "            self.w=self.w-self.learningRate *self.costDerivative(X,y)\n",
    "            cur=self.sse(X,y)\n",
    "            #print(\"Cur error: \",str(cur))\n",
    "            diff=last-cur              #diff should not change when you stop\n",
    "            #print(\"Diff error: \",str(diff))\n",
    "            last=cur\n",
    "            errorSequences.append(cur)\n",
    "            if abs(diff)< self.tolerance:\n",
    "                print(\"The model stopped -no further improvement\")\n",
    "                break\n",
    "        self.plot(errorSequences)\n",
    "    def stochasticGradientDescent(self,X,y):\n",
    "        errorSequences=[]\n",
    "        last=float('inf')                           # set initial error: infinite\n",
    "        sigma=0.0000001\n",
    "        tao=0.01\n",
    "        cur=0\n",
    "        diff=0\n",
    "        for t in tqdm(range(self.maxIteration)):             #tqdm tracks a progress bar\n",
    "            \n",
    "            \n",
    "            #index=[np.random.randint(1,X.shape[0]-1) for a in np.arange(1,100,1)]\n",
    "            #X=X[index]\n",
    "            #y=y[index]\n",
    "            #print(t)\n",
    "            #alpha=sigma/(t+tao)\n",
    "            \n",
    "            for i in range(0,X.shape[0],self.batch_size):\n",
    "                Xk=X[i:i+self.batch_size,:]\n",
    "                yk=y[i:i+self.batch_size]\n",
    "                self.w=self.w - (self.learningRate* self.costDerivative(X,y))\n",
    "            \n",
    "            cur=self.sse(X,y)\n",
    "            #print(\"last error:\", str(last))\n",
    "            #print(\"Cur error: \",str(cur))\n",
    "            diff=last-cur              #diff should not change when you stop\n",
    "            #print(\"Diff error: \",str(diff))\n",
    "            last=cur\n",
    "\n",
    "            errorSequences.append(cur)\n",
    "\n",
    "            if diff< self.tolerance:\n",
    "                print(\"The model stopped -no further improvement\")\n",
    "                self.plot(errorSequences)\n",
    "                break\n",
    "        self.plot(errorSequences)\n",
    "    def plot(self,errorSequences):\n",
    "        plt.ticklabel_format(style='plain')\n",
    "        \n",
    "        plt.plot(errorSequences)\n",
    "        plt.xlabel('Number of Iterations')\n",
    "        plt.ylabel('Sum of Squared Error')\n",
    "            \n",
    "    #def sgd_predict():\n",
    "        \n",
    "    \n",
    "   # def sgd_costDerivative(self,X,y):\n",
    "    #    y_hat=self.predict(X)\n",
    "     #   return (y_hat-y)*X\n",
    "    \n",
    "    #Cost function   \n",
    "    def sse(self,X,y):\n",
    "        y_hat=self.predict(X)\n",
    "        return ((y_hat-y)**2).sum()\n",
    "    \n",
    "    #Predict Function\n",
    "    \n",
    "    def predict(self,X):\n",
    "        return X.dot(self.w) #w is theta\n",
    "    \n",
    "    def costFunction(self,X):\n",
    "        return self.rmse(X,y)/2\n",
    "    \n",
    "    def rmse(self,X,y):\n",
    "        y_hat=self.predict(X)\n",
    "        return np.sqrt((((y_hat-y)**2)/X.shape[0]).sum())\n",
    "    \n",
    "    #0703\n",
    "    def costDerivative(self,X,y):\n",
    "        y_hat=self.predict(X)\n",
    "        if self.reg==False:\n",
    "            return (y_hat-y).dot(X)\n",
    "        else:\n",
    "            #print(\"Adding lambda\")\n",
    "            return (y_hat-y).dot(X)+(self.lamda * self.w)\n",
    "        \n",
    "    #You need to mention here, whether to solve it by closed form or gradient descent\n",
    "    def fit(self):\n",
    "        \n",
    "        self.X_train,self.X_test,self.y_train,self.y_test=self.trainTestSplit()\n",
    "        self.X_train,self.mean,self.sd=self.normalize(self.X_train)\n",
    "        self.X_test=self.normalizeTestData(self.X_test, self.mean, self.sd)\n",
    "        \n",
    "        self.checkMatrix(self.X_train)\n",
    "        self.checkInvertibility(self.X_train)\n",
    "        \n",
    "        if self.fullRank and not self.lowRank and not self.gd and not self.sgd:\n",
    "            print(\"Solving using closed form solution\")\n",
    "            self.w=self.closedFormSolution(self.X_train,self.y_train,self.reg)\n",
    "            \n",
    "        elif self.gd and not self.sgd:\n",
    "            print(\"Solving using gradient descent\")\n",
    "            self.w=np.ones(self.X_train.shape[1],dtype=np.float64)*0\n",
    "            self.gradientDescent(self.X_train,self.y_train,self.reg)\n",
    "        else:\n",
    "            print(\"Solving using stochastic gradient descent\")\n",
    "            self.w=np.ones(self.X_train.shape[1],dtype=np.float64)*0\n",
    "            self.stochasticGradientDescent(self.X_train,self.y_train)\n",
    "        print()\n",
    "        print(\"Weights: \"+str(self.w))\n",
    "        print(\"Errors in train dataset:\")\n",
    "        print()\n",
    "        print(\"RMSE: \"+str(self.rmse(self.X_train,self.y_train)))\n",
    "        print(\"SSE: \"+str(self.sse(self.X_train,self.y_train)))\n",
    "        print()\n",
    "        print(\"Errors in test dataset:\")\n",
    "        print(\"RMSE: \"+str(self.rmse(self.X_test,self.y_test)))\n",
    "        print(\"SSE: \"+str(self.sse(self.X_test,self.y_test)))\n",
    "        \n",
    "        \n",
    "        "
   ]
  },
  {
   "cell_type": "markdown",
   "id": "6217992d",
   "metadata": {},
   "source": [
    "Closed Form Solution Without Regularization"
   ]
  },
  {
   "cell_type": "code",
   "execution_count": 39,
   "id": "0b9966c0",
   "metadata": {},
   "outputs": [],
   "source": [
    "regression=LinearRegression(df.values[:,0:-1],df.values[:,-1],\n",
    "                            learningRate=0.0004,\n",
    "                            tolerance=0.005, maxIteration=50000,gd=False,reg=False,sgd=False)"
   ]
  },
  {
   "cell_type": "code",
   "execution_count": 40,
   "id": "c141467b",
   "metadata": {},
   "outputs": [
    {
     "name": "stdout",
     "output_type": "stream",
     "text": [
      "Data is Full Rank\n",
      "Data is not low Rank\n",
      "Solving using closed form solution\n",
      "\n",
      "Weights: [22.93399433 -0.90751811  1.04796575  0.38867104  0.6622465  -2.17214484\n",
      "  2.58716716  0.50645061 -2.59559964  2.30818886 -1.67320027 -2.33651383\n",
      "  0.65618617 -3.99472177]\n",
      "Errors in train dataset:\n",
      "\n",
      "RMSE: 4.731796522403048\n",
      "SSE: 7903.63411028723\n",
      "\n",
      "Errors in test dataset:\n",
      "RMSE: 4.624025082730343\n",
      "SSE: 3250.0044107893414\n"
     ]
    }
   ],
   "source": [
    "regression.fit()#Closed Form Solution"
   ]
  },
  {
   "cell_type": "markdown",
   "id": "8be47b70",
   "metadata": {},
   "source": [
    "Closed Form Solution With Regularization"
   ]
  },
  {
   "cell_type": "code",
   "execution_count": 41,
   "id": "e74cc481",
   "metadata": {},
   "outputs": [],
   "source": [
    "regression=LinearRegression(df.values[:,0:-1],df.values[:,-1],\n",
    "                            learningRate=0.0004,\n",
    "                            tolerance=0.005, maxIteration=50000,lamda=0.05,gd=False,reg=True,sgd=False)"
   ]
  },
  {
   "cell_type": "code",
   "execution_count": 42,
   "id": "53795c36",
   "metadata": {},
   "outputs": [
    {
     "name": "stdout",
     "output_type": "stream",
     "text": [
      "Data is Full Rank\n",
      "Data is not low Rank\n",
      "Solving using closed form solution\n",
      "\n",
      "Weights: [22.93074635 -0.90704836  1.04703889  0.38702146  0.6624847  -2.1699506\n",
      "  2.58783236  0.50540804 -2.59424036  2.30370477 -1.66923307 -2.33589141\n",
      "  0.65613963 -3.99356316]\n",
      "Errors in train dataset:\n",
      "\n",
      "RMSE: 4.731798116592567\n",
      "SSE: 7903.639435914703\n",
      "\n",
      "Errors in test dataset:\n",
      "RMSE: 4.623984873668432\n",
      "SSE: 3249.9478890109986\n"
     ]
    }
   ],
   "source": [
    "regression.fit()"
   ]
  },
  {
   "cell_type": "markdown",
   "id": "b87e78a8",
   "metadata": {},
   "source": [
    "Gradient Descent Solution without Regularization"
   ]
  },
  {
   "cell_type": "code",
   "execution_count": 43,
   "id": "300a3860",
   "metadata": {},
   "outputs": [],
   "source": [
    "regression1=LinearRegression(df.values[:,0:-1],df.values[:,-1],\n",
    "                            learningRate=0.0004,\n",
    "                            tolerance=0.005, maxIteration=50000,gd=True,reg=False,sgd=False)\n"
   ]
  },
  {
   "cell_type": "code",
   "execution_count": 44,
   "id": "1ab3a2ff",
   "metadata": {},
   "outputs": [
    {
     "name": "stdout",
     "output_type": "stream",
     "text": [
      "Data is Full Rank\n",
      "Data is not low Rank\n",
      "Solving using gradient descent\n"
     ]
    },
    {
     "name": "stderr",
     "output_type": "stream",
     "text": [
      "  1%|          | 356/50000 [00:00<00:02, 21023.49it/s]"
     ]
    },
    {
     "name": "stdout",
     "output_type": "stream",
     "text": [
      "The model stopped -no further improvement\n",
      "\n",
      "Weights: [22.93399433 -0.90293476  1.03869262  0.36249203  0.66589525 -2.16437442\n",
      "  2.59214504  0.49773684 -2.59871216  2.24055986 -1.59781715 -2.33365665\n",
      "  0.65569719 -3.99179609]\n",
      "Errors in train dataset:\n",
      "\n",
      "RMSE: 4.731875211402964\n",
      "SSE: 7903.896984750313\n",
      "\n",
      "Errors in test dataset:\n",
      "RMSE: 4.6253969322012605\n",
      "SSE: 3251.9331106233585\n"
     ]
    },
    {
     "name": "stderr",
     "output_type": "stream",
     "text": [
      "\n"
     ]
    },
    {
     "data": {
      "image/png": "[encoded data removed]",
      "text/plain": [
       "<Figure size 432x288 with 1 Axes>"
      ]
     },
     "metadata": {
      "needs_background": "light"
     },
     "output_type": "display_data"
    }
   ],
   "source": [
    "regression1.fit() #Gradient Descent Solution"
   ]
  },
  {
   "cell_type": "markdown",
   "id": "744324c1",
   "metadata": {},
   "source": [
    "Gradient Descent Solution with Regularization"
   ]
  },
  {
   "cell_type": "code",
   "execution_count": 45,
   "id": "e73c95d8",
   "metadata": {},
   "outputs": [],
   "source": [
    "regression2=LinearRegression(df.values[:,0:-1],df.values[:,-1],\n",
    "                            learningRate=0.0004,\n",
    "                            tolerance=0.005, maxIteration=50000,lamda=0.05,gd=True,reg=True,sgd=False)\n"
   ]
  },
  {
   "cell_type": "code",
   "execution_count": 46,
   "id": "4cbc25bc",
   "metadata": {},
   "outputs": [
    {
     "name": "stdout",
     "output_type": "stream",
     "text": [
      "Data is Full Rank\n",
      "Data is not low Rank\n",
      "Solving using gradient descent\n"
     ]
    },
    {
     "name": "stderr",
     "output_type": "stream",
     "text": [
      "  1%|          | 359/50000 [00:00<00:02, 17142.41it/s]"
     ]
    },
    {
     "name": "stdout",
     "output_type": "stream",
     "text": [
      "The model stopped -no further improvement\n",
      "\n",
      "Weights: [22.93074635 -0.90263531  1.03810827  0.3618095   0.6659988  -2.1624825\n",
      "  2.59262225  0.49702347 -2.59724226  2.23857228 -1.59662445 -2.33314421\n",
      "  0.65566852 -3.99074905]\n",
      "Errors in train dataset:\n",
      "\n",
      "RMSE: 4.731880395303458\n",
      "SSE: 7903.914302636393\n",
      "\n",
      "Errors in test dataset:\n",
      "RMSE: 4.625311586518929\n",
      "SSE: 3251.813105402711\n"
     ]
    },
    {
     "name": "stderr",
     "output_type": "stream",
     "text": [
      "\n"
     ]
    },
    {
     "data": {
      "image/png": "[encoded data removed]",
      "text/plain": [
       "<Figure size 432x288 with 1 Axes>"
      ]
     },
     "metadata": {
      "needs_background": "light"
     },
     "output_type": "display_data"
    }
   ],
   "source": [
    "regression2.fit()"
   ]
  },
  {
   "cell_type": "markdown",
   "id": "cd55fc74",
   "metadata": {},
   "source": [
    "Stochastic Gradient Descent without Regularization"
   ]
  },
  {
   "cell_type": "code",
   "execution_count": 47,
   "id": "a2179693",
   "metadata": {},
   "outputs": [],
   "source": [
    "regression2=LinearRegression(df.values[:,0:-1],df.values[:,-1],\n",
    "                            learningRate=0.0004,\n",
    "                            tolerance=0.005, maxIteration=50000,lamda=0.05,gd=False,reg=False,sgd=True)"
   ]
  },
  {
   "cell_type": "code",
   "execution_count": 48,
   "id": "b37effb0",
   "metadata": {},
   "outputs": [
    {
     "name": "stdout",
     "output_type": "stream",
     "text": [
      "Data is Full Rank\n",
      "Data is not low Rank\n",
      "Solving using stochastic gradient descent\n"
     ]
    },
    {
     "name": "stderr",
     "output_type": "stream",
     "text": [
      "  0%|          | 2/50000 [00:00<13:42, 60.76it/s]"
     ]
    },
    {
     "name": "stdout",
     "output_type": "stream",
     "text": [
      "The model stopped -no further improvement\n",
      "\n",
      "Weights: [22.93399433 -0.90751187  1.04795304  0.38863521  0.6622515  -2.17213471\n",
      "  2.58717384  0.50643895 -2.59560401  2.30809621 -1.67309671 -2.33651008\n",
      "  0.6561855  -3.99471789]\n",
      "Errors in train dataset:\n",
      "\n",
      "RMSE: 4.731796522550967\n",
      "SSE: 7903.634110781373\n",
      "\n",
      "Errors in test dataset:\n",
      "RMSE: 4.624026910717234\n",
      "SSE: 3250.0069803976485\n"
     ]
    },
    {
     "name": "stderr",
     "output_type": "stream",
     "text": [
      "\n"
     ]
    },
    {
     "data": {
      "image/png": "[encoded data removed]",
      "text/plain": [
       "<Figure size 432x288 with 1 Axes>"
      ]
     },
     "metadata": {
      "needs_background": "light"
     },
     "output_type": "display_data"
    }
   ],
   "source": [
    "regression2.fit() #Stochastic Gradient Descent"
   ]
  },
  {
   "cell_type": "markdown",
   "id": "c2251aa1",
   "metadata": {},
   "source": [
    "Stochastic Gradient Descent With Regularization"
   ]
  },
  {
   "cell_type": "code",
   "execution_count": 49,
   "id": "fc444110",
   "metadata": {},
   "outputs": [],
   "source": [
    "regression2=LinearRegression(df.values[:,0:-1],df.values[:,-1],\n",
    "                            learningRate=0.0004,\n",
    "                            tolerance=0.005, maxIteration=50000,lamda=0.05,gd=False,reg=True,sgd=True)"
   ]
  },
  {
   "cell_type": "code",
   "execution_count": 50,
   "id": "49ee0925",
   "metadata": {},
   "outputs": [
    {
     "name": "stdout",
     "output_type": "stream",
     "text": [
      "Data is Full Rank\n",
      "Data is not low Rank\n",
      "Solving using stochastic gradient descent\n"
     ]
    },
    {
     "name": "stderr",
     "output_type": "stream",
     "text": [
      "  0%|          | 2/50000 [00:00<17:27, 47.74it/s]"
     ]
    },
    {
     "name": "stdout",
     "output_type": "stream",
     "text": [
      "The model stopped -no further improvement\n",
      "\n",
      "Weights: [22.93074635 -0.90704226  1.04702648  0.38698647  0.66248958 -2.16994072\n",
      "  2.58783888  0.50539665 -2.59424463  2.30361427 -1.66913192 -2.33588774\n",
      "  0.65613897 -3.99355938]\n",
      "Errors in train dataset:\n",
      "\n",
      "RMSE: 4.731798129591283\n",
      "SSE: 7903.639479338856\n",
      "\n",
      "Errors in test dataset:\n",
      "RMSE: 4.623986668629091\n",
      "SSE: 3249.950412172254\n"
     ]
    },
    {
     "name": "stderr",
     "output_type": "stream",
     "text": [
      "\n"
     ]
    },
    {
     "data": {
      "image/png": "[encoded data removed]",
      "text/plain": [
       "<Figure size 432x288 with 1 Axes>"
      ]
     },
     "metadata": {
      "needs_background": "light"
     },
     "output_type": "display_data"
    }
   ],
   "source": [
    "regression2.fit() #Stochastic Gradient Descent"
   ]
  },
  {
   "cell_type": "markdown",
   "id": "0d4a842d",
   "metadata": {},
   "source": [
    "## Yacht Dataset "
   ]
  },
  {
   "cell_type": "code",
   "execution_count": 51,
   "id": "120cbb5d",
   "metadata": {},
   "outputs": [],
   "source": [
    "df=pd.read_csv(r\"C:\\Users\\rutuj\\OneDrive\\Documents\\Northeastern University MS in Data Analytics Engineering\\4. Machine Learning\\Python Class Lab Sessions\\Lab 1 Linear Regression\\yachtData.csv\")"
   ]
  },
  {
   "cell_type": "code",
   "execution_count": 52,
   "id": "7632295f",
   "metadata": {},
   "outputs": [
    {
     "data": {
      "text/html": [
       "<div>\n",
       "<style scoped>\n",
       "    .dataframe tbody tr th:only-of-type {\n",
       "        vertical-align: middle;\n",
       "    }\n",
       "\n",
       "    .dataframe tbody tr th {\n",
       "        vertical-align: top;\n",
       "    }\n",
       "\n",
       "    .dataframe thead th {\n",
       "        text-align: right;\n",
       "    }\n",
       "</style>\n",
       "<table border=\"1\" class=\"dataframe\">\n",
       "  <thead>\n",
       "    <tr style=\"text-align: right;\">\n",
       "      <th></th>\n",
       "      <th>-2.3</th>\n",
       "      <th>0.568</th>\n",
       "      <th>4.78</th>\n",
       "      <th>3.99</th>\n",
       "      <th>3.17</th>\n",
       "      <th>0.125</th>\n",
       "      <th>0.11</th>\n",
       "    </tr>\n",
       "  </thead>\n",
       "  <tbody>\n",
       "    <tr>\n",
       "      <th>0</th>\n",
       "      <td>-2.3</td>\n",
       "      <td>0.568</td>\n",
       "      <td>4.78</td>\n",
       "      <td>3.99</td>\n",
       "      <td>3.17</td>\n",
       "      <td>0.150</td>\n",
       "      <td>0.27</td>\n",
       "    </tr>\n",
       "    <tr>\n",
       "      <th>1</th>\n",
       "      <td>-2.3</td>\n",
       "      <td>0.568</td>\n",
       "      <td>4.78</td>\n",
       "      <td>3.99</td>\n",
       "      <td>3.17</td>\n",
       "      <td>0.175</td>\n",
       "      <td>0.47</td>\n",
       "    </tr>\n",
       "    <tr>\n",
       "      <th>2</th>\n",
       "      <td>-2.3</td>\n",
       "      <td>0.568</td>\n",
       "      <td>4.78</td>\n",
       "      <td>3.99</td>\n",
       "      <td>3.17</td>\n",
       "      <td>0.200</td>\n",
       "      <td>0.78</td>\n",
       "    </tr>\n",
       "    <tr>\n",
       "      <th>3</th>\n",
       "      <td>-2.3</td>\n",
       "      <td>0.568</td>\n",
       "      <td>4.78</td>\n",
       "      <td>3.99</td>\n",
       "      <td>3.17</td>\n",
       "      <td>0.225</td>\n",
       "      <td>1.18</td>\n",
       "    </tr>\n",
       "    <tr>\n",
       "      <th>4</th>\n",
       "      <td>-2.3</td>\n",
       "      <td>0.568</td>\n",
       "      <td>4.78</td>\n",
       "      <td>3.99</td>\n",
       "      <td>3.17</td>\n",
       "      <td>0.250</td>\n",
       "      <td>1.82</td>\n",
       "    </tr>\n",
       "  </tbody>\n",
       "</table>\n",
       "</div>"
      ],
      "text/plain": [
       "   -2.3  0.568  4.78  3.99  3.17  0.125  0.11\n",
       "0  -2.3  0.568  4.78  3.99  3.17  0.150  0.27\n",
       "1  -2.3  0.568  4.78  3.99  3.17  0.175  0.47\n",
       "2  -2.3  0.568  4.78  3.99  3.17  0.200  0.78\n",
       "3  -2.3  0.568  4.78  3.99  3.17  0.225  1.18\n",
       "4  -2.3  0.568  4.78  3.99  3.17  0.250  1.82"
      ]
     },
     "execution_count": 52,
     "metadata": {},
     "output_type": "execute_result"
    }
   ],
   "source": [
    "df.head()"
   ]
  },
  {
   "cell_type": "code",
   "execution_count": 53,
   "id": "6eb4229c",
   "metadata": {},
   "outputs": [
    {
     "data": {
      "text/plain": [
       "(307, 7)"
      ]
     },
     "execution_count": 53,
     "metadata": {},
     "output_type": "execute_result"
    }
   ],
   "source": [
    "df.shape"
   ]
  },
  {
   "cell_type": "markdown",
   "id": "d3dcfea8",
   "metadata": {},
   "source": [
    "Closed form Without Regularization"
   ]
  },
  {
   "cell_type": "code",
   "execution_count": 54,
   "id": "5da1af1b",
   "metadata": {},
   "outputs": [],
   "source": [
    "regression=LinearRegression(df.values[:,0:-1],df.values[:,-1],\n",
    "                            learningRate=0.001,\n",
    "                            tolerance=0.001, maxIteration=50000,gd=False,reg=False,sgd=False)"
   ]
  },
  {
   "cell_type": "code",
   "execution_count": 55,
   "id": "8e4da64c",
   "metadata": {},
   "outputs": [
    {
     "name": "stdout",
     "output_type": "stream",
     "text": [
      "Data is Full Rank\n",
      "Data is not low Rank\n",
      "Solving using closed form solution\n",
      "\n",
      "Weights: [10.74271028  0.54271589 -0.48644592  0.53145418 -0.58852203 -0.84401335\n",
      " 12.89451446]\n",
      "Errors in train dataset:\n",
      "\n",
      "RMSE: 8.83244987355699\n",
      "SSE: 16694.604544543938\n",
      "\n",
      "Errors in test dataset:\n",
      "RMSE: 9.051378846467498\n",
      "SSE: 7619.253689071977\n"
     ]
    }
   ],
   "source": [
    "regression.fit()"
   ]
  },
  {
   "cell_type": "markdown",
   "id": "2c3ed521",
   "metadata": {},
   "source": [
    "Closed form With Regularization"
   ]
  },
  {
   "cell_type": "markdown",
   "id": "19ea7522",
   "metadata": {},
   "source": [
    "Here, it can be seen that without regularization, the error in training data set is less compared to that in test data set.(which means Overfitting). By applying regularization of lambda=5, we can reduce the test data set error and hence reduce overfitting"
   ]
  },
  {
   "cell_type": "code",
   "execution_count": 56,
   "id": "f769e68b",
   "metadata": {},
   "outputs": [],
   "source": [
    "regression_1_yacht=LinearRegression(df.values[:,0:-1],df.values[:,-1],\n",
    "                            learningRate=0.001,\n",
    "                            tolerance=0.001, maxIteration=50000,lamda=5,gd=False,reg=True,sgd=False)"
   ]
  },
  {
   "cell_type": "code",
   "execution_count": 57,
   "id": "e4cd0b79",
   "metadata": {},
   "outputs": [
    {
     "name": "stdout",
     "output_type": "stream",
     "text": [
      "Data is Full Rank\n",
      "Data is not low Rank\n",
      "Solving using closed form solution\n",
      "\n",
      "Weights: [ 1.04974429e+01  5.34012758e-01 -6.00489883e-01  8.80980900e-03\n",
      " -1.62173941e-01 -3.38768802e-01  1.25970881e+01]\n",
      "Errors in train dataset:\n",
      "\n",
      "RMSE: 8.841046171095709\n",
      "SSE: 16727.11684348146\n",
      "\n",
      "Errors in test dataset:\n",
      "RMSE: 8.965078933115244\n",
      "SSE: 7474.655545759771\n"
     ]
    }
   ],
   "source": [
    "regression_1_yacht.fit()"
   ]
  },
  {
   "cell_type": "markdown",
   "id": "58d9bdf6",
   "metadata": {},
   "source": [
    "Gradient Descent Solution without Regularization"
   ]
  },
  {
   "cell_type": "code",
   "execution_count": 58,
   "id": "f479bf5e",
   "metadata": {},
   "outputs": [],
   "source": [
    "regression_2_yacht=LinearRegression(df.values[:,0:-1],df.values[:,-1],\n",
    "                            learningRate=0.001,\n",
    "                            tolerance=0.001, maxIteration=50000,gd=True,reg=False,sgd=False)"
   ]
  },
  {
   "cell_type": "code",
   "execution_count": 59,
   "id": "9618b580",
   "metadata": {},
   "outputs": [
    {
     "name": "stdout",
     "output_type": "stream",
     "text": [
      "Data is Full Rank\n",
      "Data is not low Rank\n",
      "Solving using gradient descent\n"
     ]
    },
    {
     "name": "stderr",
     "output_type": "stream",
     "text": [
      "  1%|          | 558/50000 [00:00<00:01, 25431.35it/s]"
     ]
    },
    {
     "name": "stdout",
     "output_type": "stream",
     "text": [
      "The model stopped -no further improvement\n",
      "\n",
      "Weights: [10.74271028  0.54013899 -0.561333    0.23019536 -0.34306019 -0.55487531\n",
      " 12.89266347]\n",
      "Errors in train dataset:\n",
      "\n",
      "RMSE: 8.832541346001031\n",
      "SSE: 16694.95033856699\n",
      "\n",
      "Errors in test dataset:\n",
      "RMSE: 9.052068542976757\n",
      "SSE: 7620.414876327689\n"
     ]
    },
    {
     "name": "stderr",
     "output_type": "stream",
     "text": [
      "\n"
     ]
    },
    {
     "data": {
      "image/png": "[encoded data removed]",
      "text/plain": [
       "<Figure size 432x288 with 1 Axes>"
      ]
     },
     "metadata": {
      "needs_background": "light"
     },
     "output_type": "display_data"
    }
   ],
   "source": [
    "regression_2_yacht.fit()"
   ]
  },
  {
   "cell_type": "markdown",
   "id": "af4f45b4",
   "metadata": {},
   "source": [
    "Gradient Descent Solution with Regularization"
   ]
  },
  {
   "cell_type": "code",
   "execution_count": 60,
   "id": "35b2611b",
   "metadata": {},
   "outputs": [],
   "source": [
    "regression_2_yacht=LinearRegression(df.values[:,0:-1],df.values[:,-1],\n",
    "                            learningRate=0.001,\n",
    "                            tolerance=0.001, maxIteration=50000,lamda=10,gd=True,reg=True,sgd=False)"
   ]
  },
  {
   "cell_type": "code",
   "execution_count": 61,
   "id": "994c7b61",
   "metadata": {},
   "outputs": [
    {
     "name": "stdout",
     "output_type": "stream",
     "text": [
      "Data is Full Rank\n",
      "Data is not low Rank\n",
      "Solving using gradient descent\n"
     ]
    },
    {
     "name": "stderr",
     "output_type": "stream",
     "text": [
      "  0%|          | 131/50000 [00:00<00:02, 21893.21it/s]"
     ]
    },
    {
     "name": "stdout",
     "output_type": "stream",
     "text": [
      "The model stopped -no further improvement\n",
      "\n",
      "Weights: [10.263125    0.52890271 -0.60620791 -0.07489317 -0.09339158 -0.25487309\n",
      " 12.31549818]\n",
      "Errors in train dataset:\n",
      "\n",
      "RMSE: 8.864592068247488\n",
      "SSE: 16816.332402797365\n",
      "\n",
      "Errors in test dataset:\n",
      "RMSE: 8.896537053329496\n",
      "SSE: 7360.798553337615\n"
     ]
    },
    {
     "name": "stderr",
     "output_type": "stream",
     "text": [
      "\n"
     ]
    },
    {
     "data": {
      "image/png": "[encoded data removed]",
      "text/plain": [
       "<Figure size 432x288 with 1 Axes>"
      ]
     },
     "metadata": {
      "needs_background": "light"
     },
     "output_type": "display_data"
    }
   ],
   "source": [
    "regression_2_yacht.fit()"
   ]
  },
  {
   "cell_type": "markdown",
   "id": "69426dcd",
   "metadata": {},
   "source": [
    "Stochastic Gradient Descent Solution without Regularization"
   ]
  },
  {
   "cell_type": "code",
   "execution_count": 62,
   "id": "0d07df44",
   "metadata": {},
   "outputs": [],
   "source": [
    "regression_3_yacht=LinearRegression(df.values[:,0:-1],df.values[:,-1],\n",
    "                            learningRate=0.001,\n",
    "                            tolerance=0.001, maxIteration=50000,gd=False,reg=False,sgd=True)"
   ]
  },
  {
   "cell_type": "code",
   "execution_count": 63,
   "id": "5365739c",
   "metadata": {},
   "outputs": [
    {
     "name": "stdout",
     "output_type": "stream",
     "text": [
      "Data is Full Rank\n",
      "Data is not low Rank\n",
      "Solving using stochastic gradient descent\n"
     ]
    },
    {
     "name": "stderr",
     "output_type": "stream",
     "text": [
      "  0%|          | 11/50000 [00:00<03:51, 216.25it/s]"
     ]
    },
    {
     "name": "stdout",
     "output_type": "stream",
     "text": [
      "The model stopped -no further improvement\n",
      "\n",
      "Weights: [10.74271028  0.54257323 -0.49059154  0.51477699 -0.57493367 -0.82800715\n",
      " 12.89441199]\n",
      "Errors in train dataset:\n",
      "\n",
      "RMSE: 8.832450153879812\n",
      "SSE: 16694.60560424511\n",
      "\n",
      "Errors in test dataset:\n",
      "RMSE: 9.051410529840105\n",
      "SSE: 7619.307029912133\n"
     ]
    },
    {
     "name": "stderr",
     "output_type": "stream",
     "text": [
      "\n"
     ]
    },
    {
     "data": {
      "image/png": "[encoded data removed]",
      "text/plain": [
       "<Figure size 432x288 with 1 Axes>"
      ]
     },
     "metadata": {
      "needs_background": "light"
     },
     "output_type": "display_data"
    }
   ],
   "source": [
    "regression_3_yacht.fit()"
   ]
  },
  {
   "cell_type": "code",
   "execution_count": 64,
   "id": "5517d432",
   "metadata": {},
   "outputs": [],
   "source": [
    "regression_3_yacht=LinearRegression(df.values[:,0:-1],df.values[:,-1],\n",
    "                            learningRate=0.001,\n",
    "                            tolerance=0.001, maxIteration=50000,lamda=1,gd=False,reg=True,sgd=True)"
   ]
  },
  {
   "cell_type": "code",
   "execution_count": 65,
   "id": "ae8fb6bf",
   "metadata": {},
   "outputs": [
    {
     "name": "stdout",
     "output_type": "stream",
     "text": [
      "Data is Full Rank\n",
      "Data is not low Rank\n",
      "Solving using stochastic gradient descent\n"
     ]
    },
    {
     "name": "stderr",
     "output_type": "stream",
     "text": [
      "  0%|          | 12/50000 [00:00<04:42, 176.86it/s]"
     ]
    },
    {
     "name": "stdout",
     "output_type": "stream",
     "text": [
      "The model stopped -no further improvement\n",
      "\n",
      "Weights: [10.69274419  0.53951811 -0.55196179  0.25485663 -0.36305986 -0.57781324\n",
      " 12.83287675]\n",
      "Errors in train dataset:\n",
      "\n",
      "RMSE: 8.832872525717523\n",
      "SSE: 16696.202329893145\n",
      "\n",
      "Errors in test dataset:\n",
      "RMSE: 9.032851848527173\n",
      "SSE: 7588.094364121995\n"
     ]
    },
    {
     "name": "stderr",
     "output_type": "stream",
     "text": [
      "\n"
     ]
    },
    {
     "data": {
      "image/png": "[encoded data removed]",
      "text/plain": [
       "<Figure size 432x288 with 1 Axes>"
      ]
     },
     "metadata": {
      "needs_background": "light"
     },
     "output_type": "display_data"
    }
   ],
   "source": [
    "regression_3_yacht.fit()"
   ]
  },
  {
   "cell_type": "markdown",
   "id": "248f5090",
   "metadata": {},
   "source": [
    "## Concrete Dataset"
   ]
  },
  {
   "cell_type": "code",
   "execution_count": 66,
   "id": "a810c634",
   "metadata": {},
   "outputs": [],
   "source": [
    "df=pd.read_csv(r\"C:\\Users\\rutuj\\OneDrive\\Documents\\Northeastern University MS in Data Analytics Engineering\\4. Machine Learning\\Python Class Lab Sessions\\Lab 1 Linear Regression\\concreteData.csv\")"
   ]
  },
  {
   "cell_type": "code",
   "execution_count": 67,
   "id": "5513979d",
   "metadata": {},
   "outputs": [
    {
     "data": {
      "text/html": [
       "<div>\n",
       "<style scoped>\n",
       "    .dataframe tbody tr th:only-of-type {\n",
       "        vertical-align: middle;\n",
       "    }\n",
       "\n",
       "    .dataframe tbody tr th {\n",
       "        vertical-align: top;\n",
       "    }\n",
       "\n",
       "    .dataframe thead th {\n",
       "        text-align: right;\n",
       "    }\n",
       "</style>\n",
       "<table border=\"1\" class=\"dataframe\">\n",
       "  <thead>\n",
       "    <tr style=\"text-align: right;\">\n",
       "      <th></th>\n",
       "      <th>540</th>\n",
       "      <th>0</th>\n",
       "      <th>0.1</th>\n",
       "      <th>162</th>\n",
       "      <th>2.5</th>\n",
       "      <th>1040</th>\n",
       "      <th>676</th>\n",
       "      <th>28</th>\n",
       "      <th>79.99</th>\n",
       "    </tr>\n",
       "  </thead>\n",
       "  <tbody>\n",
       "    <tr>\n",
       "      <th>0</th>\n",
       "      <td>540.0</td>\n",
       "      <td>0.0</td>\n",
       "      <td>0.0</td>\n",
       "      <td>162.0</td>\n",
       "      <td>2.5</td>\n",
       "      <td>1055.0</td>\n",
       "      <td>676.0</td>\n",
       "      <td>28</td>\n",
       "      <td>61.89</td>\n",
       "    </tr>\n",
       "    <tr>\n",
       "      <th>1</th>\n",
       "      <td>332.5</td>\n",
       "      <td>142.5</td>\n",
       "      <td>0.0</td>\n",
       "      <td>228.0</td>\n",
       "      <td>0.0</td>\n",
       "      <td>932.0</td>\n",
       "      <td>594.0</td>\n",
       "      <td>270</td>\n",
       "      <td>40.27</td>\n",
       "    </tr>\n",
       "    <tr>\n",
       "      <th>2</th>\n",
       "      <td>332.5</td>\n",
       "      <td>142.5</td>\n",
       "      <td>0.0</td>\n",
       "      <td>228.0</td>\n",
       "      <td>0.0</td>\n",
       "      <td>932.0</td>\n",
       "      <td>594.0</td>\n",
       "      <td>365</td>\n",
       "      <td>41.05</td>\n",
       "    </tr>\n",
       "    <tr>\n",
       "      <th>3</th>\n",
       "      <td>198.6</td>\n",
       "      <td>132.4</td>\n",
       "      <td>0.0</td>\n",
       "      <td>192.0</td>\n",
       "      <td>0.0</td>\n",
       "      <td>978.4</td>\n",
       "      <td>825.5</td>\n",
       "      <td>360</td>\n",
       "      <td>44.30</td>\n",
       "    </tr>\n",
       "    <tr>\n",
       "      <th>4</th>\n",
       "      <td>266.0</td>\n",
       "      <td>114.0</td>\n",
       "      <td>0.0</td>\n",
       "      <td>228.0</td>\n",
       "      <td>0.0</td>\n",
       "      <td>932.0</td>\n",
       "      <td>670.0</td>\n",
       "      <td>90</td>\n",
       "      <td>47.03</td>\n",
       "    </tr>\n",
       "  </tbody>\n",
       "</table>\n",
       "</div>"
      ],
      "text/plain": [
       "     540      0  0.1    162  2.5    1040    676   28  79.99\n",
       "0  540.0    0.0  0.0  162.0  2.5  1055.0  676.0   28  61.89\n",
       "1  332.5  142.5  0.0  228.0  0.0   932.0  594.0  270  40.27\n",
       "2  332.5  142.5  0.0  228.0  0.0   932.0  594.0  365  41.05\n",
       "3  198.6  132.4  0.0  192.0  0.0   978.4  825.5  360  44.30\n",
       "4  266.0  114.0  0.0  228.0  0.0   932.0  670.0   90  47.03"
      ]
     },
     "execution_count": 67,
     "metadata": {},
     "output_type": "execute_result"
    }
   ],
   "source": [
    "df.head()"
   ]
  },
  {
   "cell_type": "code",
   "execution_count": 68,
   "id": "2a571fb7",
   "metadata": {},
   "outputs": [
    {
     "data": {
      "text/plain": [
       "(1029, 9)"
      ]
     },
     "execution_count": 68,
     "metadata": {},
     "output_type": "execute_result"
    }
   ],
   "source": [
    "df.shape"
   ]
  },
  {
   "cell_type": "markdown",
   "id": "965a1667",
   "metadata": {},
   "source": [
    "Closed Form Without Regularization"
   ]
  },
  {
   "cell_type": "code",
   "execution_count": 69,
   "id": "3c211149",
   "metadata": {},
   "outputs": [],
   "source": [
    "regression_1_conrete=LinearRegression(df.values[:,0:-1],df.values[:,-1],\n",
    "                            learningRate=0.0007,\n",
    "                            tolerance=0.0001, maxIteration=50000,gd=False,reg=False,sgd=False)"
   ]
  },
  {
   "cell_type": "code",
   "execution_count": 70,
   "id": "b23b1b15",
   "metadata": {},
   "outputs": [
    {
     "name": "stdout",
     "output_type": "stream",
     "text": [
      "Data is Full Rank\n",
      "Data is not low Rank\n",
      "Solving using closed form solution\n",
      "\n",
      "Weights: [35.55869444 13.07061719  9.29612788  6.07754028 -2.38797659  2.13444427\n",
      "  1.74782814  1.75752107  7.36636378]\n",
      "Errors in train dataset:\n",
      "\n",
      "RMSE: 10.041854635012676\n",
      "SSE: 72603.96804772239\n",
      "\n",
      "Errors in test dataset:\n",
      "RMSE: 11.106342967100199\n",
      "SSE: 38115.41391778253\n"
     ]
    }
   ],
   "source": [
    "regression_1_conrete.fit()"
   ]
  },
  {
   "cell_type": "markdown",
   "id": "c572215a",
   "metadata": {},
   "source": [
    "Closed Form With Regularization"
   ]
  },
  {
   "cell_type": "code",
   "execution_count": 71,
   "id": "c604d6c3",
   "metadata": {},
   "outputs": [],
   "source": [
    "regression_1_conrete=LinearRegression(df.values[:,0:-1],df.values[:,-1],\n",
    "                            learningRate=0.0007,\n",
    "                            tolerance=0.0001, maxIteration=50000,lamda=5,gd=False,reg=True,sgd=False)"
   ]
  },
  {
   "cell_type": "code",
   "execution_count": 72,
   "id": "f43cd026",
   "metadata": {},
   "outputs": [
    {
     "name": "stdout",
     "output_type": "stream",
     "text": [
      "Data is Full Rank\n",
      "Data is not low Rank\n",
      "Solving using closed form solution\n",
      "\n",
      "Weights: [35.31346207 11.93611046  8.15994274  5.07161968 -3.12597866  2.14843617\n",
      "  0.98630262  0.76779464  7.26713929]\n",
      "Errors in train dataset:\n",
      "\n",
      "RMSE: 10.05445696636325\n",
      "SSE: 72786.31551968434\n",
      "\n",
      "Errors in test dataset:\n",
      "RMSE: 11.096146519828066\n",
      "SSE: 38045.46048515319\n"
     ]
    }
   ],
   "source": [
    "regression_1_conrete.fit()"
   ]
  },
  {
   "cell_type": "markdown",
   "id": "ec87d181",
   "metadata": {},
   "source": [
    "Gradient Descent Solution without Regularization"
   ]
  },
  {
   "cell_type": "code",
   "execution_count": 73,
   "id": "4d1da23c",
   "metadata": {},
   "outputs": [],
   "source": [
    "regression_2_conrete=LinearRegression(df.values[:,0:-1],df.values[:,-1],\n",
    "                            learningRate=0.0007,\n",
    "                            tolerance=0.0001, maxIteration=50000,gd=True,reg=False,sgd=False)"
   ]
  },
  {
   "cell_type": "code",
   "execution_count": 74,
   "id": "c552820b",
   "metadata": {},
   "outputs": [
    {
     "name": "stdout",
     "output_type": "stream",
     "text": [
      "Data is Full Rank\n",
      "Data is not low Rank\n",
      "Solving using gradient descent\n"
     ]
    },
    {
     "name": "stderr",
     "output_type": "stream",
     "text": [
      "  1%|          | 443/50000 [00:00<00:03, 16452.33it/s]"
     ]
    },
    {
     "name": "stdout",
     "output_type": "stream",
     "text": [
      "The model stopped -no further improvement\n",
      "\n",
      "Weights: [35.55869444 13.06540412  9.29085934  6.07298081 -2.39238759  2.13389392\n",
      "  1.74374962  1.75244069  7.36620932]\n",
      "Errors in train dataset:\n",
      "\n",
      "RMSE: 10.041854848466567\n",
      "SSE: 72603.97113432348\n",
      "\n",
      "Errors in test dataset:\n",
      "RMSE: 11.106279311277474\n",
      "SSE: 38114.97700329399\n"
     ]
    },
    {
     "name": "stderr",
     "output_type": "stream",
     "text": [
      "\n"
     ]
    },
    {
     "data": {
      "image/png": "[encoded data removed]",
      "text/plain": [
       "<Figure size 432x288 with 1 Axes>"
      ]
     },
     "metadata": {
      "needs_background": "light"
     },
     "output_type": "display_data"
    }
   ],
   "source": [
    "regression_2_conrete.fit()"
   ]
  },
  {
   "cell_type": "markdown",
   "id": "5b072c6f",
   "metadata": {},
   "source": [
    "Gradient Descent Solution with Regularization"
   ]
  },
  {
   "cell_type": "code",
   "execution_count": 75,
   "id": "f7926c39",
   "metadata": {},
   "outputs": [],
   "source": [
    "regression_2_conrete=LinearRegression(df.values[:,0:-1],df.values[:,-1],\n",
    "                            learningRate=0.0007,\n",
    "                            tolerance=0.0001, maxIteration=50000,lamda=10,gd=True,reg=True,sgd=False)"
   ]
  },
  {
   "cell_type": "code",
   "execution_count": 76,
   "id": "950705bc",
   "metadata": {},
   "outputs": [
    {
     "name": "stdout",
     "output_type": "stream",
     "text": [
      "Data is Full Rank\n",
      "Data is not low Rank\n",
      "Solving using gradient descent\n"
     ]
    },
    {
     "name": "stderr",
     "output_type": "stream",
     "text": [
      "  1%|          | 559/50000 [00:00<00:02, 23353.68it/s]"
     ]
    },
    {
     "name": "stdout",
     "output_type": "stream",
     "text": [
      "The model stopped -no further improvement\n",
      "\n",
      "Weights: [35.07158904 11.1311055   7.35680075  4.35647911 -3.59797833  2.18586962\n",
      "  0.47508292  0.09408741  7.17942276]\n",
      "Errors in train dataset:\n",
      "\n",
      "RMSE: 10.081936489092215\n",
      "SSE: 73184.7192264641\n",
      "\n",
      "Errors in test dataset:\n",
      "RMSE: 11.102386609617483\n",
      "SSE: 38088.2634246888\n"
     ]
    },
    {
     "name": "stderr",
     "output_type": "stream",
     "text": [
      "\n"
     ]
    },
    {
     "data": {
      "image/png": "[encoded data removed]",
      "text/plain": [
       "<Figure size 432x288 with 1 Axes>"
      ]
     },
     "metadata": {
      "needs_background": "light"
     },
     "output_type": "display_data"
    }
   ],
   "source": [
    "regression_2_conrete.fit()"
   ]
  },
  {
   "cell_type": "markdown",
   "id": "7d085d5f",
   "metadata": {},
   "source": [
    "Stochastic Gradient Descent Without Regularization"
   ]
  },
  {
   "cell_type": "code",
   "execution_count": 79,
   "id": "fb98eb9d",
   "metadata": {},
   "outputs": [],
   "source": [
    "regression_3_conrete=LinearRegression(df.values[:,0:-1],df.values[:,-1],\n",
    "                            learningRate=0.0007,\n",
    "                            tolerance=0.0000001, maxIteration=50000,gd=False,reg=False,sgd=True)"
   ]
  },
  {
   "cell_type": "code",
   "execution_count": 78,
   "id": "f330b73d",
   "metadata": {},
   "outputs": [
    {
     "name": "stdout",
     "output_type": "stream",
     "text": [
      "Data is Full Rank\n",
      "Data is not low Rank\n",
      "Solving using stochastic gradient descent\n"
     ]
    },
    {
     "name": "stderr",
     "output_type": "stream",
     "text": [
      "  0%|          | 2/50000 [00:00<30:45, 27.10it/s]"
     ]
    },
    {
     "name": "stdout",
     "output_type": "stream",
     "text": [
      "The model stopped -no further improvement\n",
      "\n",
      "Weights: [35.55869444 13.07061719  9.29612788  6.07754028 -2.38797659  2.13444427\n",
      "  1.74782814  1.75752107  7.36636378]\n",
      "Errors in train dataset:\n",
      "\n",
      "RMSE: 10.041854635012676\n",
      "SSE: 72603.96804772239\n",
      "\n",
      "Errors in test dataset:\n",
      "RMSE: 11.106342967100199\n",
      "SSE: 38115.41391778252\n"
     ]
    },
    {
     "name": "stderr",
     "output_type": "stream",
     "text": [
      "\n"
     ]
    },
    {
     "data": {
      "image/png": "[encoded data removed]",
      "text/plain": [
       "<Figure size 432x288 with 1 Axes>"
      ]
     },
     "metadata": {
      "needs_background": "light"
     },
     "output_type": "display_data"
    }
   ],
   "source": [
    "regression_3_conrete.fit()"
   ]
  },
  {
   "cell_type": "markdown",
   "id": "85f9d5b3",
   "metadata": {},
   "source": [
    "Stochastic Gradient Solution with Regularization"
   ]
  },
  {
   "cell_type": "code",
   "execution_count": 80,
   "id": "1a706ffb",
   "metadata": {},
   "outputs": [],
   "source": [
    "regression_3_conrete=LinearRegression(df.values[:,0:-1],df.values[:,-1],\n",
    "                            learningRate=0.0007,\n",
    "                            tolerance=0.0001, maxIteration=50000,lamda=10,gd=False,reg=True,sgd=True)"
   ]
  },
  {
   "cell_type": "code",
   "execution_count": 81,
   "id": "6e3bcf39",
   "metadata": {},
   "outputs": [
    {
     "name": "stdout",
     "output_type": "stream",
     "text": [
      "Data is Full Rank\n",
      "Data is not low Rank\n",
      "Solving using stochastic gradient descent\n"
     ]
    },
    {
     "name": "stderr",
     "output_type": "stream",
     "text": [
      "  0%|          | 2/50000 [00:00<34:54, 23.87it/s]"
     ]
    },
    {
     "name": "stdout",
     "output_type": "stream",
     "text": [
      "The model stopped -no further improvement\n",
      "\n",
      "Weights: [35.07158904 11.13111611  7.35681148  4.35648839 -3.59796935  2.18587074\n",
      "  0.47509122  0.09409775  7.17942308]\n",
      "Errors in train dataset:\n",
      "\n",
      "RMSE: 10.081936193307401\n",
      "SSE: 73184.71493226365\n",
      "\n",
      "Errors in test dataset:\n",
      "RMSE: 11.102386511171705\n",
      "SSE: 38088.26274922525\n"
     ]
    },
    {
     "name": "stderr",
     "output_type": "stream",
     "text": [
      "\n"
     ]
    },
    {
     "data": {
      "image/png": "[encoded data removed]",
      "text/plain": [
       "<Figure size 432x288 with 1 Axes>"
      ]
     },
     "metadata": {
      "needs_background": "light"
     },
     "output_type": "display_data"
    }
   ],
   "source": [
    "regression_3_conrete.fit()"
   ]
  },
  {
   "cell_type": "markdown",
   "id": "2f9b4d2f",
   "metadata": {},
   "source": [
    "Observation:"
   ]
  },
  {
   "cell_type": "markdown",
   "id": "93dc24ea",
   "metadata": {},
   "source": [
    "## Effect of Learning Rate (alpha)\n",
    "If Learning Rate (alpha) is too large:\n",
    "It will miss the minima and continously keep on re-calculating the weights for more than 50,000 iterations in attempt to reach minima.\n",
    "\n",
    "If Learning Rate (alpha) is too low:\n",
    "The model will take more number of iterations to reach to the minima\n",
    "\n",
    "## Effect of Regulariztion Parameter (lambda)\n",
    "As value of lamda increases, some of the values of weights start tending to 0\n",
    "\n",
    "If Regularization Parameter (lamda) is too large (e.g.: 1000):\n",
    "Then overfitting will occur. i.e. Training error as well as tesing error will be high as compared to equivalent model without regularization\n",
    "\n",
    "If Regularization Parameter (lamda) is too large (e.g.: 0.00001):\n",
    "There will be no/very little effect of lambda on the model. So the model will be similar to the one without regularization. Without regularization, if the model is Overfitting, then such value of lambda will also tend to overfit.\n"
   ]
  },
  {
   "cell_type": "code",
   "execution_count": null,
   "id": "de1a5a9a",
   "metadata": {},
   "outputs": [],
   "source": []
  }
 ],
 "metadata": {
  "kernelspec": {
   "display_name": "Python 3 (ipykernel)",
   "language": "python",
   "name": "python3"
  },
  "language_info": {
   "codemirror_mode": {
    "name": "ipython",
    "version": 3
   },
   "file_extension": ".py",
   "mimetype": "text/x-python",
   "name": "python",
   "nbconvert_exporter": "python",
   "pygments_lexer": "ipython3",
   "version": "3.9.7"
  }
 },
 "nbformat": 4,
 "nbformat_minor": 5
}
